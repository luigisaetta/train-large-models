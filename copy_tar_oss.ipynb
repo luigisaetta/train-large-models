{
 "cells": [
  {
   "cell_type": "markdown",
   "id": "5f1ebb95",
   "metadata": {},
   "source": [
    "### Copy tar Object Storage"
   ]
  },
  {
   "cell_type": "code",
   "execution_count": 1,
   "id": "5b7facef",
   "metadata": {},
   "outputs": [],
   "source": [
    "import os\n",
    "import ads\n",
    "import ocifs\n",
    "import glob\n",
    "\n",
    "from ads import set_auth"
   ]
  },
  {
   "cell_type": "code",
   "execution_count": 2,
   "id": "f4de7736",
   "metadata": {},
   "outputs": [],
   "source": [
    "set_auth(auth='resource_principal')"
   ]
  },
  {
   "cell_type": "code",
   "execution_count": 3,
   "id": "121fb2bf",
   "metadata": {},
   "outputs": [],
   "source": [
    "fs = ocifs.OCIFileSystem(profile=\"DEFAULT\")"
   ]
  },
  {
   "cell_type": "code",
   "execution_count": 4,
   "id": "a94b702d",
   "metadata": {},
   "outputs": [],
   "source": [
    "BUCKET = \"whisper_jobs\"\n",
    "NAMESPACE = \"frqap2zhtzbe\"\n",
    "\n",
    "URL = f\"oci://{BUCKET}@{NAMESPACE}\"\n",
    "\n",
    "FILE_NAME = \"test_atco2.tar.gz\""
   ]
  },
  {
   "cell_type": "code",
   "execution_count": 5,
   "id": "fdd92946",
   "metadata": {},
   "outputs": [],
   "source": [
    "fs.put(rpath=os.path.join(BUCKET, FILE_NAME), lpath=FILE_NAME)"
   ]
  },
  {
   "cell_type": "code",
   "execution_count": null,
   "id": "d64445d9",
   "metadata": {},
   "outputs": [],
   "source": []
  }
 ],
 "metadata": {
  "kernelspec": {
   "display_name": "Python [conda env:pytorch20_p39_gpu_v1_clonev1_0]",
   "language": "python",
   "name": "conda-env-pytorch20_p39_gpu_v1_clonev1_0-py"
  },
  "language_info": {
   "codemirror_mode": {
    "name": "ipython",
    "version": 3
   },
   "file_extension": ".py",
   "mimetype": "text/x-python",
   "name": "python",
   "nbconvert_exporter": "python",
   "pygments_lexer": "ipython3",
   "version": "3.9.16"
  }
 },
 "nbformat": 4,
 "nbformat_minor": 5
}
