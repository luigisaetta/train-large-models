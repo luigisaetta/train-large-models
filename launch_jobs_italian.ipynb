{
 "cells": [
  {
   "cell_type": "markdown",
   "id": "0392c564",
   "metadata": {},
   "source": [
    "### Launch Jobs for training"
   ]
  },
  {
   "cell_type": "code",
   "execution_count": null,
   "id": "4c0529bc",
   "metadata": {},
   "outputs": [],
   "source": [
    "import os\n",
    "import ads\n",
    "\n",
    "from ads.jobs import DataScienceJob\n",
    "from ads.jobs import DataScienceJobRun\n",
    "from ads.jobs import ScriptRuntime\n",
    "from ads.jobs import Job\n",
    "\n",
    "from ads import set_auth"
   ]
  },
  {
   "cell_type": "code",
   "execution_count": null,
   "id": "d91dc889",
   "metadata": {},
   "outputs": [],
   "source": [
    "# compartment_id = os.environ['NB_SESSION_COMPARTMENT_OCID']\n",
    "# project_id = os.environ['PROJECT_OCID']\n",
    "\n",
    "set_auth(auth='resource_principal')"
   ]
  },
  {
   "cell_type": "code",
   "execution_count": null,
   "id": "4b052cd1",
   "metadata": {},
   "outputs": [],
   "source": [
    "#\n",
    "# Here all the definitions\n",
    "#\n",
    "LOG_GROUP_ID = \"ocid1.loggroup.oc1.eu-frankfurt-1.amaaaaaangencdyazs4l4rzrzsarlej6mqlwlbz6bmnx4adwdlssveam2jaa\"\n",
    "LOG_ID = \"ocid1.log.oc1.eu-frankfurt-1.amaaaaaangencdya47httqmxyiew5tkxa6l7gekev2ljpasixuhmp2fa3v5q\"\n",
    "\n",
    "NAMESPACE = \"frqap2zhtzbe\"\n",
    "CONDA_BUCKET = \"whisper_jobs_env\"\n",
    "# bucket with code to execute\n",
    "SOURCE_BUCKET = \"whisper_jobs\"\n",
    "\n",
    "CUSTOM_ENV_URI = f\"oci://{CONDA_BUCKET}@{NAMESPACE}/conda_environments/gpu/whisper_env_/1.0/whisper_env_v1_0\"\n",
    "SOURCE_URI = f\"oci://{SOURCE_BUCKET}@{NAMESPACE}/test_italian.tar.gz\"\n",
    "\n",
    "# the first to execute\n",
    "RUN_ENTRYPOINT = \"train_italian.sh\"\n",
    "\n",
    "# SHAPE_NAME = \"VM.Standard2.4\"\n",
    "# SHAPE_NAME = \"VM.GPU2.1\"\n",
    "SHAPE_NAME = \"VM.GPU.A10.2\"\n",
    "# in GB\n",
    "STORAGE_SIZE = 2000\n",
    "\n",
    "JOBS_NAME = \"job_whisper_italian_010\""
   ]
  },
  {
   "cell_type": "code",
   "execution_count": null,
   "id": "5aa7eef7",
   "metadata": {},
   "outputs": [],
   "source": [
    "# 1. Specify the Infrastructure requested\n",
    "# VM Shape, logging\n",
    "# network is taken from NB session\n",
    "\n",
    "# you need to provide the OCID for LogGroup and Log\n",
    "infrastructure = (\n",
    "    DataScienceJob()\n",
    "    .with_shape_name(SHAPE_NAME)\n",
    "    .with_block_storage_size(STORAGE_SIZE)\n",
    "    .with_log_group_id(LOG_GROUP_ID)\n",
    "    .with_log_id(LOG_ID)\n",
    ")"
   ]
  },
  {
   "cell_type": "code",
   "execution_count": null,
   "id": "87cd5396",
   "metadata": {},
   "outputs": [],
   "source": [
    "# specify the runtime and conda and env \n",
    "runtime = (\n",
    "    ScriptRuntime()\n",
    "    .with_source(SOURCE_URI)\n",
    "    .with_custom_conda(CUSTOM_ENV_URI)\n",
    "    .with_environment_variable(JOB_RUN_ENTRYPOINT=RUN_ENTRYPOINT)\n",
    ")"
   ]
  },
  {
   "cell_type": "code",
   "execution_count": null,
   "id": "62a4e35b",
   "metadata": {},
   "outputs": [],
   "source": [
    "# specify the JOB\n",
    "job = (\n",
    "    Job(name=JOBS_NAME)\n",
    "    .with_infrastructure(infrastructure)\n",
    "    .with_runtime(runtime)\n",
    ")"
   ]
  },
  {
   "cell_type": "code",
   "execution_count": null,
   "id": "034da636",
   "metadata": {},
   "outputs": [],
   "source": [
    "# create the JOB\n",
    "job.create()"
   ]
  },
  {
   "cell_type": "code",
   "execution_count": null,
   "id": "16f09f3c",
   "metadata": {},
   "outputs": [],
   "source": [
    "# get the job run by id\n",
    "# JOB_RUN_OCID = \"ocid1.datasciencejobrun.oc1.eu-frankfurt-1.amaaaaaangencdyais5w2gkzbqbwqeftps6raay65ymhg46hltw3vlokij3q\"\n",
    "\n",
    "# job_run = DataScienceJobRun.from_ocid(JOB_RUN_OCID)"
   ]
  },
  {
   "cell_type": "code",
   "execution_count": null,
   "id": "be0e98a4",
   "metadata": {},
   "outputs": [],
   "source": [
    "job_run = job.run()"
   ]
  },
  {
   "cell_type": "code",
   "execution_count": null,
   "id": "ea3950b1",
   "metadata": {},
   "outputs": [],
   "source": [
    "job_run.watch()"
   ]
  },
  {
   "cell_type": "code",
   "execution_count": null,
   "id": "272a45d8",
   "metadata": {},
   "outputs": [],
   "source": [
    "%%capture --no-stderr cap\n",
    "job_run.watch()\n",
    "\n",
    "with open('output1000_whisper_italian.txt', 'w') as f:\n",
    "    f.write(cap.stdout)"
   ]
  },
  {
   "cell_type": "code",
   "execution_count": null,
   "id": "054338aa",
   "metadata": {},
   "outputs": [],
   "source": []
  }
 ],
 "metadata": {
  "kernelspec": {
   "display_name": "Python [conda env:launch_jobs_env_v1_0]",
   "language": "python",
   "name": "conda-env-launch_jobs_env_v1_0-py"
  },
  "language_info": {
   "codemirror_mode": {
    "name": "ipython",
    "version": 3
   },
   "file_extension": ".py",
   "mimetype": "text/x-python",
   "name": "python",
   "nbconvert_exporter": "python",
   "pygments_lexer": "ipython3",
   "version": "3.8.13"
  }
 },
 "nbformat": 4,
 "nbformat_minor": 5
}
