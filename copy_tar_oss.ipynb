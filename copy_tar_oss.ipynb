{
 "cells": [
  {
   "cell_type": "markdown",
   "id": "3ea28270",
   "metadata": {},
   "source": [
    "### Copy tar Object Storage"
   ]
  },
  {
   "cell_type": "code",
   "execution_count": 8,
   "id": "e151775e",
   "metadata": {},
   "outputs": [],
   "source": [
    "import os\n",
    "import ads\n",
    "import ocifs\n",
    "import glob\n",
    "\n",
    "from ads import set_auth"
   ]
  },
  {
   "cell_type": "code",
   "execution_count": 9,
   "id": "c0c07933",
   "metadata": {},
   "outputs": [],
   "source": [
    "set_auth(auth='resource_principal')"
   ]
  },
  {
   "cell_type": "code",
   "execution_count": 10,
   "id": "ff21fb04",
   "metadata": {},
   "outputs": [],
   "source": [
    "fs = ocifs.OCIFileSystem(profile=\"DEFAULT\")"
   ]
  },
  {
   "cell_type": "code",
   "execution_count": 11,
   "id": "2b9f1738",
   "metadata": {},
   "outputs": [],
   "source": [
    "BUCKET = \"whisper_jobs\"\n",
    "NAMESPACE = \"frqap2zhtzbe\"\n",
    "\n",
    "URL = f\"oci://{BUCKET}@{NAMESPACE}\"\n",
    "\n",
    "FILE_NAME = \"test_atco2.tar.gz\""
   ]
  },
  {
   "cell_type": "code",
   "execution_count": 12,
   "id": "5c85d14d",
   "metadata": {},
   "outputs": [],
   "source": [
    "fs.put(rpath=os.path.join(BUCKET, FILE_NAME), lpath=FILE_NAME)"
   ]
  },
  {
   "cell_type": "code",
   "execution_count": null,
   "id": "67f66493",
   "metadata": {},
   "outputs": [],
   "source": []
  }
 ],
 "metadata": {
  "kernelspec": {
   "display_name": "Python [conda env:pytorch20_p39_gpu_v1_clonev1_0]",
   "language": "python",
   "name": "conda-env-pytorch20_p39_gpu_v1_clonev1_0-py"
  },
  "language_info": {
   "codemirror_mode": {
    "name": "ipython",
    "version": 3
   },
   "file_extension": ".py",
   "mimetype": "text/x-python",
   "name": "python",
   "nbconvert_exporter": "python",
   "pygments_lexer": "ipython3",
   "version": "3.9.16"
  }
 },
 "nbformat": 4,
 "nbformat_minor": 5
}
