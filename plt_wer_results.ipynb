{
 "cells": [
  {
   "cell_type": "markdown",
   "id": "7c57d256",
   "metadata": {},
   "source": [
    "### Extract WER from log"
   ]
  },
  {
   "cell_type": "code",
   "execution_count": 1,
   "id": "66ce376c",
   "metadata": {},
   "outputs": [],
   "source": [
    "import numpy as np\n",
    "import pandas as pd\n",
    "import json\n",
    "\n",
    "import matplotlib.pyplot as plt\n",
    "\n",
    "%matplotlib inline"
   ]
  },
  {
   "cell_type": "code",
   "execution_count": 2,
   "id": "cb734d0e",
   "metadata": {},
   "outputs": [],
   "source": [
    "LOG_FILE = \"output1000_atco2.txt\""
   ]
  },
  {
   "cell_type": "markdown",
   "id": "9bd22755",
   "metadata": {},
   "source": [
    "#### Estrazione WER"
   ]
  },
  {
   "cell_type": "code",
   "execution_count": 3,
   "id": "c7ef7ddd",
   "metadata": {},
   "outputs": [
    {
     "name": "stdout",
     "output_type": "stream",
     "text": [
      "{\"eval_loss\": 0.9045917391777039, \"eval_wer\": 0.5461465271170314, \"eval_runtime\": 30.1434, \"eval_samples_per_second\": 1.825, \"eval_steps_per_second\": 0.133, \"epoch\": 3.17}\n",
      "{\"eval_loss\": 0.5140445232391357, \"eval_wer\": 0.28068506184586106, \"eval_runtime\": 28.8836, \"eval_samples_per_second\": 1.904, \"eval_steps_per_second\": 0.138, \"epoch\": 6.35}\n",
      "{\"eval_loss\": 0.5870081782341003, \"eval_wer\": 0.1665080875356803, \"eval_runtime\": 17.6157, \"eval_samples_per_second\": 3.122, \"eval_steps_per_second\": 0.227, \"epoch\": 9.52}\n",
      "{\"eval_loss\": 0.5955320000648499, \"eval_wer\": 0.1665080875356803, \"eval_runtime\": 17.4822, \"eval_samples_per_second\": 3.146, \"eval_steps_per_second\": 0.229, \"epoch\": 12.7}\n",
      "{\"eval_loss\": 0.5995476245880127, \"eval_wer\": 0.15413891531874405, \"eval_runtime\": 17.4826, \"eval_samples_per_second\": 3.146, \"eval_steps_per_second\": 0.229, \"epoch\": 15.87}\n",
      "{\"eval_loss\": 0.6287272572517395, \"eval_wer\": 0.1731684110371075, \"eval_runtime\": 17.237, \"eval_samples_per_second\": 3.191, \"eval_steps_per_second\": 0.232, \"epoch\": 19.05}\n",
      "{\"eval_loss\": 0.6432343125343323, \"eval_wer\": 0.16555661274976213, \"eval_runtime\": 17.5455, \"eval_samples_per_second\": 3.135, \"eval_steps_per_second\": 0.228, \"epoch\": 22.22}\n",
      "{\"eval_loss\": 0.6878654956817627, \"eval_wer\": 0.15889628924833493, \"eval_runtime\": 17.4641, \"eval_samples_per_second\": 3.149, \"eval_steps_per_second\": 0.229, \"epoch\": 25.4}\n",
      "{\"eval_loss\": 0.7162216901779175, \"eval_wer\": 0.1598477640342531, \"eval_runtime\": 17.6116, \"eval_samples_per_second\": 3.123, \"eval_steps_per_second\": 0.227, \"epoch\": 28.57}\n",
      "{\"eval_loss\": 0.722922146320343, \"eval_wer\": 0.15794481446241673, \"eval_runtime\": 17.5074, \"eval_samples_per_second\": 3.142, \"eval_steps_per_second\": 0.228, \"epoch\": 31.75}\n",
      "{\"eval_loss\": 0.7282211780548096, \"eval_wer\": 0.16270218839200762, \"eval_runtime\": 17.5143, \"eval_samples_per_second\": 3.14, \"eval_steps_per_second\": 0.228, \"epoch\": 34.92}\n",
      "{\"eval_loss\": 0.7321106195449829, \"eval_wer\": 0.15889628924833493, \"eval_runtime\": 17.5373, \"eval_samples_per_second\": 3.136, \"eval_steps_per_second\": 0.228, \"epoch\": 38.1}\n"
     ]
    }
   ],
   "source": [
    "SINGLE_STEPS = 50\n",
    "\n",
    "epoch_list = []\n",
    "wer_list = []\n",
    "\n",
    "TIMESTAMP_LENGTH = 22\n",
    "\n",
    "with open(LOG_FILE, encoding='utf-8') as file:\n",
    "    for line in file:\n",
    "        \n",
    "        if \"eval_wer\" in line:\n",
    "            # need some preprocessing on the lines\n",
    "            line = line.strip()\n",
    "            line = line.replace(\"'\", '\"')\n",
    "            \n",
    "            # remove the timestamp (first chars)\n",
    "            line = line[TIMESTAMP_LENGTH:]\n",
    "            \n",
    "            try:\n",
    "                print(line)\n",
    "                json_data = json.loads(line)\n",
    "                \n",
    "                epoch_list.append(json_data['epoch'])\n",
    "                wer_list.append(json_data['eval_wer'])\n",
    "            except:\n",
    "                print(f\"This line can't be processed: {line}\")\n",
    "                \n",
    "# steps\n",
    "steps_list = [SINGLE_STEPS * (i + 1) for i in range(len(wer_list))]"
   ]
  },
  {
   "cell_type": "code",
   "execution_count": 4,
   "id": "ab1f1773",
   "metadata": {},
   "outputs": [
    {
     "data": {
      "text/html": [
       "<div>\n",
       "<style scoped>\n",
       "    .dataframe tbody tr th:only-of-type {\n",
       "        vertical-align: middle;\n",
       "    }\n",
       "\n",
       "    .dataframe tbody tr th {\n",
       "        vertical-align: top;\n",
       "    }\n",
       "\n",
       "    .dataframe thead th {\n",
       "        text-align: right;\n",
       "    }\n",
       "</style>\n",
       "<table border=\"1\" class=\"dataframe\">\n",
       "  <thead>\n",
       "    <tr style=\"text-align: right;\">\n",
       "      <th></th>\n",
       "      <th>steps</th>\n",
       "      <th>epochs</th>\n",
       "      <th>wer</th>\n",
       "    </tr>\n",
       "  </thead>\n",
       "  <tbody>\n",
       "    <tr>\n",
       "      <th>0</th>\n",
       "      <td>50</td>\n",
       "      <td>3.17</td>\n",
       "      <td>0.546147</td>\n",
       "    </tr>\n",
       "    <tr>\n",
       "      <th>1</th>\n",
       "      <td>100</td>\n",
       "      <td>6.35</td>\n",
       "      <td>0.280685</td>\n",
       "    </tr>\n",
       "    <tr>\n",
       "      <th>2</th>\n",
       "      <td>150</td>\n",
       "      <td>9.52</td>\n",
       "      <td>0.166508</td>\n",
       "    </tr>\n",
       "    <tr>\n",
       "      <th>3</th>\n",
       "      <td>200</td>\n",
       "      <td>12.70</td>\n",
       "      <td>0.166508</td>\n",
       "    </tr>\n",
       "    <tr>\n",
       "      <th>4</th>\n",
       "      <td>250</td>\n",
       "      <td>15.87</td>\n",
       "      <td>0.154139</td>\n",
       "    </tr>\n",
       "    <tr>\n",
       "      <th>5</th>\n",
       "      <td>300</td>\n",
       "      <td>19.05</td>\n",
       "      <td>0.173168</td>\n",
       "    </tr>\n",
       "    <tr>\n",
       "      <th>6</th>\n",
       "      <td>350</td>\n",
       "      <td>22.22</td>\n",
       "      <td>0.165557</td>\n",
       "    </tr>\n",
       "    <tr>\n",
       "      <th>7</th>\n",
       "      <td>400</td>\n",
       "      <td>25.40</td>\n",
       "      <td>0.158896</td>\n",
       "    </tr>\n",
       "    <tr>\n",
       "      <th>8</th>\n",
       "      <td>450</td>\n",
       "      <td>28.57</td>\n",
       "      <td>0.159848</td>\n",
       "    </tr>\n",
       "    <tr>\n",
       "      <th>9</th>\n",
       "      <td>500</td>\n",
       "      <td>31.75</td>\n",
       "      <td>0.157945</td>\n",
       "    </tr>\n",
       "    <tr>\n",
       "      <th>10</th>\n",
       "      <td>550</td>\n",
       "      <td>34.92</td>\n",
       "      <td>0.162702</td>\n",
       "    </tr>\n",
       "    <tr>\n",
       "      <th>11</th>\n",
       "      <td>600</td>\n",
       "      <td>38.10</td>\n",
       "      <td>0.158896</td>\n",
       "    </tr>\n",
       "  </tbody>\n",
       "</table>\n",
       "</div>"
      ],
      "text/plain": [
       "    steps  epochs       wer\n",
       "0      50    3.17  0.546147\n",
       "1     100    6.35  0.280685\n",
       "2     150    9.52  0.166508\n",
       "3     200   12.70  0.166508\n",
       "4     250   15.87  0.154139\n",
       "5     300   19.05  0.173168\n",
       "6     350   22.22  0.165557\n",
       "7     400   25.40  0.158896\n",
       "8     450   28.57  0.159848\n",
       "9     500   31.75  0.157945\n",
       "10    550   34.92  0.162702\n",
       "11    600   38.10  0.158896"
      ]
     },
     "execution_count": 4,
     "metadata": {},
     "output_type": "execute_result"
    }
   ],
   "source": [
    "dict_res = {\n",
    "    \"steps\": steps_list,\n",
    "    \"epochs\": epoch_list,\n",
    "    \"wer\": wer_list}\n",
    "\n",
    "df_res = pd.DataFrame(dict_res)\n",
    "\n",
    "df_res.head(30)"
   ]
  },
  {
   "cell_type": "markdown",
   "id": "05cffc00",
   "metadata": {},
   "source": [
    "#### Plot the results"
   ]
  },
  {
   "cell_type": "code",
   "execution_count": 5,
   "id": "1a15a8b2",
   "metadata": {},
   "outputs": [
    {
     "data": {
      "image/png": "[encoded data removed]",
      "text/plain": [
       "<Figure size 640x480 with 1 Axes>"
      ]
     },
     "metadata": {},
     "output_type": "display_data"
    }
   ],
   "source": [
    "plt.plot(epoch_list, wer_list, marker='o')\n",
    "plt.title(\"WER computed on ATCO2 test dataset\")\n",
    "plt.xlabel(\"Epochs\")\n",
    "plt.ylabel(\"WER\")\n",
    "plt.grid(True);"
   ]
  },
  {
   "cell_type": "code",
   "execution_count": 6,
   "id": "7133616e",
   "metadata": {},
   "outputs": [
    {
     "data": {
      "text/plain": [
       "[50, 100, 150, 200, 250, 300, 350, 400, 450, 500, 550, 600]"
      ]
     },
     "execution_count": 6,
     "metadata": {},
     "output_type": "execute_result"
    }
   ],
   "source": [
    "steps_list"
   ]
  },
  {
   "cell_type": "code",
   "execution_count": null,
   "id": "1f92ef20",
   "metadata": {},
   "outputs": [],
   "source": []
  }
 ],
 "metadata": {
  "kernelspec": {
   "display_name": "Python [conda env:pytorch20_p39_gpu_v1_clonev1_0]",
   "language": "python",
   "name": "conda-env-pytorch20_p39_gpu_v1_clonev1_0-py"
  },
  "language_info": {
   "codemirror_mode": {
    "name": "ipython",
    "version": 3
   },
   "file_extension": ".py",
   "mimetype": "text/x-python",
   "name": "python",
   "nbconvert_exporter": "python",
   "pygments_lexer": "ipython3",
   "version": "3.9.16"
  }
 },
 "nbformat": 4,
 "nbformat_minor": 5
}
